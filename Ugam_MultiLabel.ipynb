{
  "nbformat": 4,
  "nbformat_minor": 0,
  "metadata": {
    "colab": {
      "name": "Ugam-MultiLabel.ipynb",
      "provenance": [],
      "collapsed_sections": [
        "GpQokYmeR3x0",
        "_c4EF0cSfuOv",
        "FTivuWVbMxaA",
        "Q63H1fM_vQ_p",
        "9D_k2_4JHE67",
        "fXbhYSHkvPku",
        "BLdFjvHL0raL",
        "6sFx9iLa5R2I",
        "l7QWygkcETKD"
      ],
      "mount_file_id": "1NK3YjUsRrTvPdhMQQ7yBb-locDP7yT-a",
      "authorship_tag": "ABX9TyO46pk3Z+oaICZR7cnlE1yf",
      "include_colab_link": true
    },
    "kernelspec": {
      "name": "python3",
      "display_name": "Python 3"
    },
    "language_info": {
      "name": "python"
    }
  },
  "cells": [
    {
      "cell_type": "markdown",
      "metadata": {
        "id": "view-in-github",
        "colab_type": "text"
      },
      "source": [
        "<a href=\"https://colab.research.google.com/github/senarkitbank/datasets/blob/main/Ugam_MultiLabel.ipynb\" target=\"_parent\"><img src=\"https://colab.research.google.com/assets/colab-badge.svg\" alt=\"Open In Colab\"/></a>"
      ]
    },
    {
      "cell_type": "code",
      "source": [
        "from sklearn.svm import SVC"
      ],
      "metadata": {
        "id": "yxXvR16pSYAv"
      },
      "execution_count": 1,
      "outputs": []
    },
    {
      "cell_type": "markdown",
      "source": [
        "#### <font color=\"purple\">**Import Packages / Setup** </font>"
      ],
      "metadata": {
        "id": "GpQokYmeR3x0"
      }
    },
    {
      "cell_type": "code",
      "source": [
        "import pandas as pd\n",
        "import numpy as np\n",
        "import seaborn as sns\n",
        "import matplotlib.pyplot as plt\n",
        "import warnings\n",
        "import re\n",
        "warnings.filterwarnings(\"ignore\")"
      ],
      "metadata": {
        "id": "TDZzQorWRzsg"
      },
      "execution_count": 2,
      "outputs": []
    },
    {
      "cell_type": "code",
      "source": [
        "from sklearn.model_selection import train_test_split\n",
        "from sklearn.feature_extraction.text import TfidfVectorizer, CountVectorizer\n",
        "from sklearn.multiclass import OneVsRestClassifier\n",
        "from sklearn.linear_model import LogisticRegression\n",
        "from sklearn.pipeline import Pipeline\n",
        "from sklearn.metrics import accuracy_score\n",
        "from sklearn.svm import LinearSVC\n",
        "from sklearn.naive_bayes import MultinomialNB"
      ],
      "metadata": {
        "id": "wnZNXVVaEK_h"
      },
      "execution_count": 3,
      "outputs": []
    },
    {
      "cell_type": "code",
      "source": [
        "import nltk\n",
        "from nltk.corpus import stopwords\n",
        "nltk.download('stopwords')\n",
        "stop_words = set(stopwords.words('english'))"
      ],
      "metadata": {
        "colab": {
          "base_uri": "https://localhost:8080/"
        },
        "id": "mh9KmHbWRfMX",
        "outputId": "7f64b8eb-bae8-4b03-96cb-1e5c6ebf713d"
      },
      "execution_count": 4,
      "outputs": [
        {
          "output_type": "stream",
          "name": "stdout",
          "text": [
            "[nltk_data] Downloading package stopwords to /root/nltk_data...\n",
            "[nltk_data]   Unzipping corpora/stopwords.zip.\n"
          ]
        }
      ]
    },
    {
      "cell_type": "markdown",
      "source": [
        "#### <font color=\"purple\">**Read Data** </font>"
      ],
      "metadata": {
        "id": "_c4EF0cSfuOv"
      }
    },
    {
      "cell_type": "code",
      "source": [
        "#df = pd.read_csv('/content/drive/MyDrive/Colab Notebooks/Data/train.csv')\n",
        "df = pd.read_csv('https://raw.githubusercontent.com/senarkitbank/datasets/main/Data/train_ugamnlp.csv')\n",
        "# Read Test file\n",
        "test = pd.read_csv('https://raw.githubusercontent.com/senarkitbank/datasets/main/Data/test_ugamnlp.csv')\n",
        "print(df.columns)\n",
        "df.head(2)"
      ],
      "metadata": {
        "colab": {
          "base_uri": "https://localhost:8080/",
          "height": 333
        },
        "id": "OZ0yhGB7MmJr",
        "outputId": "2d24af11-1ecd-4aa1-dce2-098847999dbb"
      },
      "execution_count": 28,
      "outputs": [
        {
          "output_type": "stream",
          "name": "stdout",
          "text": [
            "Index(['Id', 'Review', 'Components', 'Delivery and Customer Support',\n",
            "       'Design and Aesthetics', 'Dimensions', 'Features', 'Functionality',\n",
            "       'Installation', 'Material', 'Price', 'Quality', 'Usability',\n",
            "       'Polarity'],\n",
            "      dtype='object')\n"
          ]
        },
        {
          "output_type": "execute_result",
          "data": {
            "text/html": [
              "\n",
              "  <div id=\"df-2483bfa9-c2b3-4a1d-947a-ecfa5c4e0f30\">\n",
              "    <div class=\"colab-df-container\">\n",
              "      <div>\n",
              "<style scoped>\n",
              "    .dataframe tbody tr th:only-of-type {\n",
              "        vertical-align: middle;\n",
              "    }\n",
              "\n",
              "    .dataframe tbody tr th {\n",
              "        vertical-align: top;\n",
              "    }\n",
              "\n",
              "    .dataframe thead th {\n",
              "        text-align: right;\n",
              "    }\n",
              "</style>\n",
              "<table border=\"1\" class=\"dataframe\">\n",
              "  <thead>\n",
              "    <tr style=\"text-align: right;\">\n",
              "      <th></th>\n",
              "      <th>Id</th>\n",
              "      <th>Review</th>\n",
              "      <th>Components</th>\n",
              "      <th>Delivery and Customer Support</th>\n",
              "      <th>Design and Aesthetics</th>\n",
              "      <th>Dimensions</th>\n",
              "      <th>Features</th>\n",
              "      <th>Functionality</th>\n",
              "      <th>Installation</th>\n",
              "      <th>Material</th>\n",
              "      <th>Price</th>\n",
              "      <th>Quality</th>\n",
              "      <th>Usability</th>\n",
              "      <th>Polarity</th>\n",
              "    </tr>\n",
              "  </thead>\n",
              "  <tbody>\n",
              "    <tr>\n",
              "      <th>0</th>\n",
              "      <td>0</td>\n",
              "      <td>For some reason everybody complains and I'm co...</td>\n",
              "      <td>0</td>\n",
              "      <td>0</td>\n",
              "      <td>0</td>\n",
              "      <td>0</td>\n",
              "      <td>0</td>\n",
              "      <td>0</td>\n",
              "      <td>0</td>\n",
              "      <td>0</td>\n",
              "      <td>0</td>\n",
              "      <td>0</td>\n",
              "      <td>1</td>\n",
              "      <td>0</td>\n",
              "    </tr>\n",
              "    <tr>\n",
              "      <th>1</th>\n",
              "      <td>1</td>\n",
              "      <td>I like everything about it, great choice of sp...</td>\n",
              "      <td>0</td>\n",
              "      <td>0</td>\n",
              "      <td>0</td>\n",
              "      <td>0</td>\n",
              "      <td>1</td>\n",
              "      <td>1</td>\n",
              "      <td>0</td>\n",
              "      <td>0</td>\n",
              "      <td>0</td>\n",
              "      <td>0</td>\n",
              "      <td>0</td>\n",
              "      <td>1</td>\n",
              "    </tr>\n",
              "  </tbody>\n",
              "</table>\n",
              "</div>\n",
              "      <button class=\"colab-df-convert\" onclick=\"convertToInteractive('df-2483bfa9-c2b3-4a1d-947a-ecfa5c4e0f30')\"\n",
              "              title=\"Convert this dataframe to an interactive table.\"\n",
              "              style=\"display:none;\">\n",
              "        \n",
              "  <svg xmlns=\"http://www.w3.org/2000/svg\" height=\"24px\"viewBox=\"0 0 24 24\"\n",
              "       width=\"24px\">\n",
              "    <path d=\"M0 0h24v24H0V0z\" fill=\"none\"/>\n",
              "    <path d=\"M18.56 5.44l.94 2.06.94-2.06 2.06-.94-2.06-.94-.94-2.06-.94 2.06-2.06.94zm-11 1L8.5 8.5l.94-2.06 2.06-.94-2.06-.94L8.5 2.5l-.94 2.06-2.06.94zm10 10l.94 2.06.94-2.06 2.06-.94-2.06-.94-.94-2.06-.94 2.06-2.06.94z\"/><path d=\"M17.41 7.96l-1.37-1.37c-.4-.4-.92-.59-1.43-.59-.52 0-1.04.2-1.43.59L10.3 9.45l-7.72 7.72c-.78.78-.78 2.05 0 2.83L4 21.41c.39.39.9.59 1.41.59.51 0 1.02-.2 1.41-.59l7.78-7.78 2.81-2.81c.8-.78.8-2.07 0-2.86zM5.41 20L4 18.59l7.72-7.72 1.47 1.35L5.41 20z\"/>\n",
              "  </svg>\n",
              "      </button>\n",
              "      \n",
              "  <style>\n",
              "    .colab-df-container {\n",
              "      display:flex;\n",
              "      flex-wrap:wrap;\n",
              "      gap: 12px;\n",
              "    }\n",
              "\n",
              "    .colab-df-convert {\n",
              "      background-color: #E8F0FE;\n",
              "      border: none;\n",
              "      border-radius: 50%;\n",
              "      cursor: pointer;\n",
              "      display: none;\n",
              "      fill: #1967D2;\n",
              "      height: 32px;\n",
              "      padding: 0 0 0 0;\n",
              "      width: 32px;\n",
              "    }\n",
              "\n",
              "    .colab-df-convert:hover {\n",
              "      background-color: #E2EBFA;\n",
              "      box-shadow: 0px 1px 2px rgba(60, 64, 67, 0.3), 0px 1px 3px 1px rgba(60, 64, 67, 0.15);\n",
              "      fill: #174EA6;\n",
              "    }\n",
              "\n",
              "    [theme=dark] .colab-df-convert {\n",
              "      background-color: #3B4455;\n",
              "      fill: #D2E3FC;\n",
              "    }\n",
              "\n",
              "    [theme=dark] .colab-df-convert:hover {\n",
              "      background-color: #434B5C;\n",
              "      box-shadow: 0px 1px 3px 1px rgba(0, 0, 0, 0.15);\n",
              "      filter: drop-shadow(0px 1px 2px rgba(0, 0, 0, 0.3));\n",
              "      fill: #FFFFFF;\n",
              "    }\n",
              "  </style>\n",
              "\n",
              "      <script>\n",
              "        const buttonEl =\n",
              "          document.querySelector('#df-2483bfa9-c2b3-4a1d-947a-ecfa5c4e0f30 button.colab-df-convert');\n",
              "        buttonEl.style.display =\n",
              "          google.colab.kernel.accessAllowed ? 'block' : 'none';\n",
              "\n",
              "        async function convertToInteractive(key) {\n",
              "          const element = document.querySelector('#df-2483bfa9-c2b3-4a1d-947a-ecfa5c4e0f30');\n",
              "          const dataTable =\n",
              "            await google.colab.kernel.invokeFunction('convertToInteractive',\n",
              "                                                     [key], {});\n",
              "          if (!dataTable) return;\n",
              "\n",
              "          const docLinkHtml = 'Like what you see? Visit the ' +\n",
              "            '<a target=\"_blank\" href=https://colab.research.google.com/notebooks/data_table.ipynb>data table notebook</a>'\n",
              "            + ' to learn more about interactive tables.';\n",
              "          element.innerHTML = '';\n",
              "          dataTable['output_type'] = 'display_data';\n",
              "          await google.colab.output.renderOutput(dataTable, element);\n",
              "          const docLink = document.createElement('div');\n",
              "          docLink.innerHTML = docLinkHtml;\n",
              "          element.appendChild(docLink);\n",
              "        }\n",
              "      </script>\n",
              "    </div>\n",
              "  </div>\n",
              "  "
            ],
            "text/plain": [
              "   Id                                             Review  ...  Usability  Polarity\n",
              "0   0  For some reason everybody complains and I'm co...  ...          1         0\n",
              "1   1  I like everything about it, great choice of sp...  ...          0         1\n",
              "\n",
              "[2 rows x 14 columns]"
            ]
          },
          "metadata": {},
          "execution_count": 28
        }
      ]
    },
    {
      "cell_type": "code",
      "source": [
        "test_df = test.iloc[:,:2].set_index('Id')\n",
        "print(\"Shape : \", test_df.shape)\n",
        "test_df.head(2)"
      ],
      "metadata": {
        "colab": {
          "base_uri": "https://localhost:8080/",
          "height": 161
        },
        "id": "_sCV-JmntZ0k",
        "outputId": "9682eab9-2705-4625-c159-a12d9b184b3f"
      },
      "execution_count": 6,
      "outputs": [
        {
          "output_type": "stream",
          "name": "stdout",
          "text": [
            "Shape :  (2631, 1)\n"
          ]
        },
        {
          "output_type": "execute_result",
          "data": {
            "text/html": [
              "\n",
              "  <div id=\"df-c6444094-525c-4c30-8078-8ae168aad2a6\">\n",
              "    <div class=\"colab-df-container\">\n",
              "      <div>\n",
              "<style scoped>\n",
              "    .dataframe tbody tr th:only-of-type {\n",
              "        vertical-align: middle;\n",
              "    }\n",
              "\n",
              "    .dataframe tbody tr th {\n",
              "        vertical-align: top;\n",
              "    }\n",
              "\n",
              "    .dataframe thead th {\n",
              "        text-align: right;\n",
              "    }\n",
              "</style>\n",
              "<table border=\"1\" class=\"dataframe\">\n",
              "  <thead>\n",
              "    <tr style=\"text-align: right;\">\n",
              "      <th></th>\n",
              "      <th>Review</th>\n",
              "    </tr>\n",
              "    <tr>\n",
              "      <th>Id</th>\n",
              "      <th></th>\n",
              "    </tr>\n",
              "  </thead>\n",
              "  <tbody>\n",
              "    <tr>\n",
              "      <th>0</th>\n",
              "      <td>Made of very thin cheap metal broke on very fi...</td>\n",
              "    </tr>\n",
              "    <tr>\n",
              "      <th>1</th>\n",
              "      <td>As good as the brand names, no jams or misfire...</td>\n",
              "    </tr>\n",
              "  </tbody>\n",
              "</table>\n",
              "</div>\n",
              "      <button class=\"colab-df-convert\" onclick=\"convertToInteractive('df-c6444094-525c-4c30-8078-8ae168aad2a6')\"\n",
              "              title=\"Convert this dataframe to an interactive table.\"\n",
              "              style=\"display:none;\">\n",
              "        \n",
              "  <svg xmlns=\"http://www.w3.org/2000/svg\" height=\"24px\"viewBox=\"0 0 24 24\"\n",
              "       width=\"24px\">\n",
              "    <path d=\"M0 0h24v24H0V0z\" fill=\"none\"/>\n",
              "    <path d=\"M18.56 5.44l.94 2.06.94-2.06 2.06-.94-2.06-.94-.94-2.06-.94 2.06-2.06.94zm-11 1L8.5 8.5l.94-2.06 2.06-.94-2.06-.94L8.5 2.5l-.94 2.06-2.06.94zm10 10l.94 2.06.94-2.06 2.06-.94-2.06-.94-.94-2.06-.94 2.06-2.06.94z\"/><path d=\"M17.41 7.96l-1.37-1.37c-.4-.4-.92-.59-1.43-.59-.52 0-1.04.2-1.43.59L10.3 9.45l-7.72 7.72c-.78.78-.78 2.05 0 2.83L4 21.41c.39.39.9.59 1.41.59.51 0 1.02-.2 1.41-.59l7.78-7.78 2.81-2.81c.8-.78.8-2.07 0-2.86zM5.41 20L4 18.59l7.72-7.72 1.47 1.35L5.41 20z\"/>\n",
              "  </svg>\n",
              "      </button>\n",
              "      \n",
              "  <style>\n",
              "    .colab-df-container {\n",
              "      display:flex;\n",
              "      flex-wrap:wrap;\n",
              "      gap: 12px;\n",
              "    }\n",
              "\n",
              "    .colab-df-convert {\n",
              "      background-color: #E8F0FE;\n",
              "      border: none;\n",
              "      border-radius: 50%;\n",
              "      cursor: pointer;\n",
              "      display: none;\n",
              "      fill: #1967D2;\n",
              "      height: 32px;\n",
              "      padding: 0 0 0 0;\n",
              "      width: 32px;\n",
              "    }\n",
              "\n",
              "    .colab-df-convert:hover {\n",
              "      background-color: #E2EBFA;\n",
              "      box-shadow: 0px 1px 2px rgba(60, 64, 67, 0.3), 0px 1px 3px 1px rgba(60, 64, 67, 0.15);\n",
              "      fill: #174EA6;\n",
              "    }\n",
              "\n",
              "    [theme=dark] .colab-df-convert {\n",
              "      background-color: #3B4455;\n",
              "      fill: #D2E3FC;\n",
              "    }\n",
              "\n",
              "    [theme=dark] .colab-df-convert:hover {\n",
              "      background-color: #434B5C;\n",
              "      box-shadow: 0px 1px 3px 1px rgba(0, 0, 0, 0.15);\n",
              "      filter: drop-shadow(0px 1px 2px rgba(0, 0, 0, 0.3));\n",
              "      fill: #FFFFFF;\n",
              "    }\n",
              "  </style>\n",
              "\n",
              "      <script>\n",
              "        const buttonEl =\n",
              "          document.querySelector('#df-c6444094-525c-4c30-8078-8ae168aad2a6 button.colab-df-convert');\n",
              "        buttonEl.style.display =\n",
              "          google.colab.kernel.accessAllowed ? 'block' : 'none';\n",
              "\n",
              "        async function convertToInteractive(key) {\n",
              "          const element = document.querySelector('#df-c6444094-525c-4c30-8078-8ae168aad2a6');\n",
              "          const dataTable =\n",
              "            await google.colab.kernel.invokeFunction('convertToInteractive',\n",
              "                                                     [key], {});\n",
              "          if (!dataTable) return;\n",
              "\n",
              "          const docLinkHtml = 'Like what you see? Visit the ' +\n",
              "            '<a target=\"_blank\" href=https://colab.research.google.com/notebooks/data_table.ipynb>data table notebook</a>'\n",
              "            + ' to learn more about interactive tables.';\n",
              "          element.innerHTML = '';\n",
              "          dataTable['output_type'] = 'display_data';\n",
              "          await google.colab.output.renderOutput(dataTable, element);\n",
              "          const docLink = document.createElement('div');\n",
              "          docLink.innerHTML = docLinkHtml;\n",
              "          element.appendChild(docLink);\n",
              "        }\n",
              "      </script>\n",
              "    </div>\n",
              "  </div>\n",
              "  "
            ],
            "text/plain": [
              "                                               Review\n",
              "Id                                                   \n",
              "0   Made of very thin cheap metal broke on very fi...\n",
              "1   As good as the brand names, no jams or misfire..."
            ]
          },
          "metadata": {},
          "execution_count": 6
        }
      ]
    },
    {
      "cell_type": "markdown",
      "source": [
        "#### <font color=\"green\">**1. Number of Reviews in Each Category ?**</font>"
      ],
      "metadata": {
        "id": "FTivuWVbMxaA"
      }
    },
    {
      "cell_type": "code",
      "source": [
        "df_tmp = df.drop(['Id','Review'], axis=1)\n",
        "counts=[]\n",
        "for i in list(df_tmp.columns.values):\n",
        "    counts.append((i,df_tmp[i].sum()))\n",
        "\n",
        "df_stats = pd.DataFrame(counts, columns=['Cateogry', 'Review_Count']).iloc[0:-1,:]\n",
        "df_stats\n",
        "\n",
        "#Also can try :\n",
        "#df.iloc[:,3:-1].sum(axis=0)"
      ],
      "metadata": {
        "id": "MIUuQ9ldNr0X",
        "colab": {
          "base_uri": "https://localhost:8080/",
          "height": 0
        },
        "outputId": "ef38a0b4-f87f-4c8a-8f72-164cde8bcd2b"
      },
      "execution_count": 7,
      "outputs": [
        {
          "output_type": "execute_result",
          "data": {
            "text/html": [
              "\n",
              "  <div id=\"df-989d7b60-7965-4d1d-b875-5d3dd1afa6cf\">\n",
              "    <div class=\"colab-df-container\">\n",
              "      <div>\n",
              "<style scoped>\n",
              "    .dataframe tbody tr th:only-of-type {\n",
              "        vertical-align: middle;\n",
              "    }\n",
              "\n",
              "    .dataframe tbody tr th {\n",
              "        vertical-align: top;\n",
              "    }\n",
              "\n",
              "    .dataframe thead th {\n",
              "        text-align: right;\n",
              "    }\n",
              "</style>\n",
              "<table border=\"1\" class=\"dataframe\">\n",
              "  <thead>\n",
              "    <tr style=\"text-align: right;\">\n",
              "      <th></th>\n",
              "      <th>Cateogry</th>\n",
              "      <th>Review_Count</th>\n",
              "    </tr>\n",
              "  </thead>\n",
              "  <tbody>\n",
              "    <tr>\n",
              "      <th>0</th>\n",
              "      <td>Components</td>\n",
              "      <td>274</td>\n",
              "    </tr>\n",
              "    <tr>\n",
              "      <th>1</th>\n",
              "      <td>Delivery and Customer Support</td>\n",
              "      <td>179</td>\n",
              "    </tr>\n",
              "    <tr>\n",
              "      <th>2</th>\n",
              "      <td>Design and Aesthetics</td>\n",
              "      <td>650</td>\n",
              "    </tr>\n",
              "    <tr>\n",
              "      <th>3</th>\n",
              "      <td>Dimensions</td>\n",
              "      <td>695</td>\n",
              "    </tr>\n",
              "    <tr>\n",
              "      <th>4</th>\n",
              "      <td>Features</td>\n",
              "      <td>313</td>\n",
              "    </tr>\n",
              "    <tr>\n",
              "      <th>5</th>\n",
              "      <td>Functionality</td>\n",
              "      <td>2538</td>\n",
              "    </tr>\n",
              "    <tr>\n",
              "      <th>6</th>\n",
              "      <td>Installation</td>\n",
              "      <td>762</td>\n",
              "    </tr>\n",
              "    <tr>\n",
              "      <th>7</th>\n",
              "      <td>Material</td>\n",
              "      <td>155</td>\n",
              "    </tr>\n",
              "    <tr>\n",
              "      <th>8</th>\n",
              "      <td>Price</td>\n",
              "      <td>854</td>\n",
              "    </tr>\n",
              "    <tr>\n",
              "      <th>9</th>\n",
              "      <td>Quality</td>\n",
              "      <td>2177</td>\n",
              "    </tr>\n",
              "    <tr>\n",
              "      <th>10</th>\n",
              "      <td>Usability</td>\n",
              "      <td>1229</td>\n",
              "    </tr>\n",
              "  </tbody>\n",
              "</table>\n",
              "</div>\n",
              "      <button class=\"colab-df-convert\" onclick=\"convertToInteractive('df-989d7b60-7965-4d1d-b875-5d3dd1afa6cf')\"\n",
              "              title=\"Convert this dataframe to an interactive table.\"\n",
              "              style=\"display:none;\">\n",
              "        \n",
              "  <svg xmlns=\"http://www.w3.org/2000/svg\" height=\"24px\"viewBox=\"0 0 24 24\"\n",
              "       width=\"24px\">\n",
              "    <path d=\"M0 0h24v24H0V0z\" fill=\"none\"/>\n",
              "    <path d=\"M18.56 5.44l.94 2.06.94-2.06 2.06-.94-2.06-.94-.94-2.06-.94 2.06-2.06.94zm-11 1L8.5 8.5l.94-2.06 2.06-.94-2.06-.94L8.5 2.5l-.94 2.06-2.06.94zm10 10l.94 2.06.94-2.06 2.06-.94-2.06-.94-.94-2.06-.94 2.06-2.06.94z\"/><path d=\"M17.41 7.96l-1.37-1.37c-.4-.4-.92-.59-1.43-.59-.52 0-1.04.2-1.43.59L10.3 9.45l-7.72 7.72c-.78.78-.78 2.05 0 2.83L4 21.41c.39.39.9.59 1.41.59.51 0 1.02-.2 1.41-.59l7.78-7.78 2.81-2.81c.8-.78.8-2.07 0-2.86zM5.41 20L4 18.59l7.72-7.72 1.47 1.35L5.41 20z\"/>\n",
              "  </svg>\n",
              "      </button>\n",
              "      \n",
              "  <style>\n",
              "    .colab-df-container {\n",
              "      display:flex;\n",
              "      flex-wrap:wrap;\n",
              "      gap: 12px;\n",
              "    }\n",
              "\n",
              "    .colab-df-convert {\n",
              "      background-color: #E8F0FE;\n",
              "      border: none;\n",
              "      border-radius: 50%;\n",
              "      cursor: pointer;\n",
              "      display: none;\n",
              "      fill: #1967D2;\n",
              "      height: 32px;\n",
              "      padding: 0 0 0 0;\n",
              "      width: 32px;\n",
              "    }\n",
              "\n",
              "    .colab-df-convert:hover {\n",
              "      background-color: #E2EBFA;\n",
              "      box-shadow: 0px 1px 2px rgba(60, 64, 67, 0.3), 0px 1px 3px 1px rgba(60, 64, 67, 0.15);\n",
              "      fill: #174EA6;\n",
              "    }\n",
              "\n",
              "    [theme=dark] .colab-df-convert {\n",
              "      background-color: #3B4455;\n",
              "      fill: #D2E3FC;\n",
              "    }\n",
              "\n",
              "    [theme=dark] .colab-df-convert:hover {\n",
              "      background-color: #434B5C;\n",
              "      box-shadow: 0px 1px 3px 1px rgba(0, 0, 0, 0.15);\n",
              "      filter: drop-shadow(0px 1px 2px rgba(0, 0, 0, 0.3));\n",
              "      fill: #FFFFFF;\n",
              "    }\n",
              "  </style>\n",
              "\n",
              "      <script>\n",
              "        const buttonEl =\n",
              "          document.querySelector('#df-989d7b60-7965-4d1d-b875-5d3dd1afa6cf button.colab-df-convert');\n",
              "        buttonEl.style.display =\n",
              "          google.colab.kernel.accessAllowed ? 'block' : 'none';\n",
              "\n",
              "        async function convertToInteractive(key) {\n",
              "          const element = document.querySelector('#df-989d7b60-7965-4d1d-b875-5d3dd1afa6cf');\n",
              "          const dataTable =\n",
              "            await google.colab.kernel.invokeFunction('convertToInteractive',\n",
              "                                                     [key], {});\n",
              "          if (!dataTable) return;\n",
              "\n",
              "          const docLinkHtml = 'Like what you see? Visit the ' +\n",
              "            '<a target=\"_blank\" href=https://colab.research.google.com/notebooks/data_table.ipynb>data table notebook</a>'\n",
              "            + ' to learn more about interactive tables.';\n",
              "          element.innerHTML = '';\n",
              "          dataTable['output_type'] = 'display_data';\n",
              "          await google.colab.output.renderOutput(dataTable, element);\n",
              "          const docLink = document.createElement('div');\n",
              "          docLink.innerHTML = docLinkHtml;\n",
              "          element.appendChild(docLink);\n",
              "        }\n",
              "      </script>\n",
              "    </div>\n",
              "  </div>\n",
              "  "
            ],
            "text/plain": [
              "                         Cateogry  Review_Count\n",
              "0                      Components           274\n",
              "1   Delivery and Customer Support           179\n",
              "2           Design and Aesthetics           650\n",
              "3                      Dimensions           695\n",
              "4                        Features           313\n",
              "5                   Functionality          2538\n",
              "6                    Installation           762\n",
              "7                        Material           155\n",
              "8                           Price           854\n",
              "9                         Quality          2177\n",
              "10                      Usability          1229"
            ]
          },
          "metadata": {},
          "execution_count": 7
        }
      ]
    },
    {
      "cell_type": "code",
      "source": [
        "df_stats.plot(x='Cateogry', y='Review_Count', kind='bar', legend=False, grid=True, figsize=(8, 5))\n",
        "plt.title(\"Number of comments per category\")\n",
        "plt.ylabel('# of Occurrences', fontsize=12)\n",
        "plt.xlabel('Categories', fontsize=12)\n",
        "plt.show()"
      ],
      "metadata": {
        "id": "nkpCL1p_Og9r",
        "colab": {
          "base_uri": "https://localhost:8080/",
          "height": 0
        },
        "outputId": "64a6eca4-6c68-43b5-8297-7ffd974760ce"
      },
      "execution_count": 8,
      "outputs": [
        {
          "output_type": "display_data",
          "data": {
            "image/png": "[encoded data removed]",
            "text/plain": [
              "<Figure size 576x360 with 1 Axes>"
            ]
          },
          "metadata": {
            "needs_background": "light"
          }
        }
      ]
    },
    {
      "cell_type": "markdown",
      "source": [
        "#### <font color=\"green\"> **2. Number of Reviews with Multi - Label ?**\n",
        "\n",
        "\n"
      ],
      "metadata": {
        "id": "Q63H1fM_vQ_p"
      }
    },
    {
      "cell_type": "code",
      "source": [
        "#exclude polarity\n",
        "rowsums = df.iloc[:,2:-1].sum(axis=1)\n",
        "x=rowsums.value_counts()\n",
        "\n",
        "#plot\n",
        "plt.figure(figsize=(8,5))\n",
        "ax = sns.barplot(x.index, x.values)\n",
        "plt.title(\"Multiple categories per comment\")\n",
        "plt.ylabel('# of Occurrences', fontsize=12)\n",
        "plt.xlabel('# of categories', fontsize=12)\n",
        "plt.show()"
      ],
      "metadata": {
        "id": "F0FZdAsIvbWj",
        "colab": {
          "base_uri": "https://localhost:8080/",
          "height": 0
        },
        "outputId": "a39fb7e5-49d7-4330-a0d5-3fa10da6bd05"
      },
      "execution_count": 9,
      "outputs": [
        {
          "output_type": "display_data",
          "data": {
            "image/png": "[encoded data removed]",
            "text/plain": [
              "<Figure size 576x360 with 1 Axes>"
            ]
          },
          "metadata": {
            "needs_background": "light"
          }
        }
      ]
    },
    {
      "cell_type": "markdown",
      "source": [
        "#### <font color=\"green\"> **3. Text Distribution in each Review**\n",
        "\n",
        "\n"
      ],
      "metadata": {
        "id": "9D_k2_4JHE67"
      }
    },
    {
      "cell_type": "code",
      "source": [
        "#Text Length distribution\n",
        "textlen = df[\"Review\"].str.len()\n",
        "\n",
        "print(\"Max Lettered Review : \", max(textlen))\n",
        "\n",
        "textlen.hist(bins = np.arange(0,1200,50))\n",
        "plt.show()"
      ],
      "metadata": {
        "colab": {
          "base_uri": "https://localhost:8080/",
          "height": 0
        },
        "id": "TEdWhyoXC0Xf",
        "outputId": "c1bd7c74-cb41-48f8-dff7-08ebdd78a48f"
      },
      "execution_count": 10,
      "outputs": [
        {
          "output_type": "stream",
          "name": "stdout",
          "text": [
            "Max Lettered Review :  1987\n"
          ]
        },
        {
          "output_type": "display_data",
          "data": {
            "image/png": "[encoded data removed]",
            "text/plain": [
              "<Figure size 432x288 with 1 Axes>"
            ]
          },
          "metadata": {
            "needs_background": "light"
          }
        }
      ]
    },
    {
      "cell_type": "markdown",
      "source": [
        "Most reviews have letters between 50 - 100"
      ],
      "metadata": {
        "id": "96c_ehmCfKzz"
      }
    },
    {
      "cell_type": "code",
      "source": [
        "#Word Distribution\n",
        "_sentences = df[\"Review\"].str.split(\" \")\n",
        "wrd_cnt = []\n",
        "for review in _sentences:\n",
        "    wrd_cnt.append(len(review))\n",
        "\n",
        "print(\"Max Worded Review : \", max(wrd_cnt))\n",
        "\n",
        "wordlens = pd.DataFrame(wrd_cnt, columns=[\"Reviews - Word Frequency\"])\n",
        "wordlens.hist(bins = np.arange(0,250,10))\n",
        "plt.show()"
      ],
      "metadata": {
        "colab": {
          "base_uri": "https://localhost:8080/",
          "height": 0
        },
        "id": "vABMIrp8HiEh",
        "outputId": "2c1ec799-c77b-42e3-c7fa-b1a3335873d8"
      },
      "execution_count": 11,
      "outputs": [
        {
          "output_type": "stream",
          "name": "stdout",
          "text": [
            "Max Worded Review :  399\n"
          ]
        },
        {
          "output_type": "display_data",
          "data": {
            "image/png": "[encoded data removed]",
            "text/plain": [
              "<Figure size 432x288 with 1 Axes>"
            ]
          },
          "metadata": {
            "needs_background": "light"
          }
        }
      ]
    },
    {
      "cell_type": "markdown",
      "source": [
        "#### <font color=\"Purple\"> **4. Data Processing**\n",
        "\n",
        "\n"
      ],
      "metadata": {
        "id": "fXbhYSHkvPku"
      }
    },
    {
      "cell_type": "code",
      "source": [
        "def clean_text(text):\n",
        "    text = text.lower()\n",
        "    text = re.sub(r\"what's\", \"what is \", text)\n",
        "    text = re.sub(r\"\\'s\", \" \", text)\n",
        "    text = re.sub(r\"\\'ve\", \" have \", text)\n",
        "    text = re.sub(r\"can't\", \"can not \", text)\n",
        "    text = re.sub(r\"n't\", \" not \", text)\n",
        "    text = re.sub(r\"i'm\", \"i am \", text)\n",
        "    text = re.sub(r\"\\'re\", \" are \", text)\n",
        "    text = re.sub(r\"\\'d\", \" would \", text)\n",
        "    text = re.sub(r\"\\'ll\", \" will \", text)\n",
        "    text = re.sub(r\"\\'scuse\", \" excuse \", text)\n",
        "    text = re.sub('\\W', ' ', text)\n",
        "    text = re.sub('\\s+', ' ', text)\n",
        "    text = text.strip(' ')\n",
        "    return text"
      ],
      "metadata": {
        "id": "PcyR10-Bvkli"
      },
      "execution_count": 12,
      "outputs": []
    },
    {
      "cell_type": "code",
      "source": [
        "# Clean the Reviews\n",
        "df['Review'] = df['Review'].map(lambda com : clean_text(com))\n",
        "test_df['Review'] = test_df['Review'].map(lambda com : clean_text(com))"
      ],
      "metadata": {
        "id": "5CTVeqKpwv46"
      },
      "execution_count": 13,
      "outputs": []
    },
    {
      "cell_type": "code",
      "source": [
        "test_df.head()"
      ],
      "metadata": {
        "colab": {
          "base_uri": "https://localhost:8080/",
          "height": 237
        },
        "id": "Dw_mIMixua8U",
        "outputId": "4ec5670b-3d6c-4c7f-c3ab-45fc047fc65c"
      },
      "execution_count": 14,
      "outputs": [
        {
          "output_type": "execute_result",
          "data": {
            "text/html": [
              "\n",
              "  <div id=\"df-151254a3-4e5a-46cb-a8b9-ed587769923c\">\n",
              "    <div class=\"colab-df-container\">\n",
              "      <div>\n",
              "<style scoped>\n",
              "    .dataframe tbody tr th:only-of-type {\n",
              "        vertical-align: middle;\n",
              "    }\n",
              "\n",
              "    .dataframe tbody tr th {\n",
              "        vertical-align: top;\n",
              "    }\n",
              "\n",
              "    .dataframe thead th {\n",
              "        text-align: right;\n",
              "    }\n",
              "</style>\n",
              "<table border=\"1\" class=\"dataframe\">\n",
              "  <thead>\n",
              "    <tr style=\"text-align: right;\">\n",
              "      <th></th>\n",
              "      <th>Review</th>\n",
              "    </tr>\n",
              "    <tr>\n",
              "      <th>Id</th>\n",
              "      <th></th>\n",
              "    </tr>\n",
              "  </thead>\n",
              "  <tbody>\n",
              "    <tr>\n",
              "      <th>0</th>\n",
              "      <td>made of very thin cheap metal broke on very fi...</td>\n",
              "    </tr>\n",
              "    <tr>\n",
              "      <th>1</th>\n",
              "      <td>as good as the brand names no jams or misfires...</td>\n",
              "    </tr>\n",
              "    <tr>\n",
              "      <th>2</th>\n",
              "      <td>unit was easy to use with understandable in st...</td>\n",
              "    </tr>\n",
              "    <tr>\n",
              "      <th>3</th>\n",
              "      <td>i am the new family plumber works well no prob...</td>\n",
              "    </tr>\n",
              "    <tr>\n",
              "      <th>4</th>\n",
              "      <td>seems to be holding up well</td>\n",
              "    </tr>\n",
              "  </tbody>\n",
              "</table>\n",
              "</div>\n",
              "      <button class=\"colab-df-convert\" onclick=\"convertToInteractive('df-151254a3-4e5a-46cb-a8b9-ed587769923c')\"\n",
              "              title=\"Convert this dataframe to an interactive table.\"\n",
              "              style=\"display:none;\">\n",
              "        \n",
              "  <svg xmlns=\"http://www.w3.org/2000/svg\" height=\"24px\"viewBox=\"0 0 24 24\"\n",
              "       width=\"24px\">\n",
              "    <path d=\"M0 0h24v24H0V0z\" fill=\"none\"/>\n",
              "    <path d=\"M18.56 5.44l.94 2.06.94-2.06 2.06-.94-2.06-.94-.94-2.06-.94 2.06-2.06.94zm-11 1L8.5 8.5l.94-2.06 2.06-.94-2.06-.94L8.5 2.5l-.94 2.06-2.06.94zm10 10l.94 2.06.94-2.06 2.06-.94-2.06-.94-.94-2.06-.94 2.06-2.06.94z\"/><path d=\"M17.41 7.96l-1.37-1.37c-.4-.4-.92-.59-1.43-.59-.52 0-1.04.2-1.43.59L10.3 9.45l-7.72 7.72c-.78.78-.78 2.05 0 2.83L4 21.41c.39.39.9.59 1.41.59.51 0 1.02-.2 1.41-.59l7.78-7.78 2.81-2.81c.8-.78.8-2.07 0-2.86zM5.41 20L4 18.59l7.72-7.72 1.47 1.35L5.41 20z\"/>\n",
              "  </svg>\n",
              "      </button>\n",
              "      \n",
              "  <style>\n",
              "    .colab-df-container {\n",
              "      display:flex;\n",
              "      flex-wrap:wrap;\n",
              "      gap: 12px;\n",
              "    }\n",
              "\n",
              "    .colab-df-convert {\n",
              "      background-color: #E8F0FE;\n",
              "      border: none;\n",
              "      border-radius: 50%;\n",
              "      cursor: pointer;\n",
              "      display: none;\n",
              "      fill: #1967D2;\n",
              "      height: 32px;\n",
              "      padding: 0 0 0 0;\n",
              "      width: 32px;\n",
              "    }\n",
              "\n",
              "    .colab-df-convert:hover {\n",
              "      background-color: #E2EBFA;\n",
              "      box-shadow: 0px 1px 2px rgba(60, 64, 67, 0.3), 0px 1px 3px 1px rgba(60, 64, 67, 0.15);\n",
              "      fill: #174EA6;\n",
              "    }\n",
              "\n",
              "    [theme=dark] .colab-df-convert {\n",
              "      background-color: #3B4455;\n",
              "      fill: #D2E3FC;\n",
              "    }\n",
              "\n",
              "    [theme=dark] .colab-df-convert:hover {\n",
              "      background-color: #434B5C;\n",
              "      box-shadow: 0px 1px 3px 1px rgba(0, 0, 0, 0.15);\n",
              "      filter: drop-shadow(0px 1px 2px rgba(0, 0, 0, 0.3));\n",
              "      fill: #FFFFFF;\n",
              "    }\n",
              "  </style>\n",
              "\n",
              "      <script>\n",
              "        const buttonEl =\n",
              "          document.querySelector('#df-151254a3-4e5a-46cb-a8b9-ed587769923c button.colab-df-convert');\n",
              "        buttonEl.style.display =\n",
              "          google.colab.kernel.accessAllowed ? 'block' : 'none';\n",
              "\n",
              "        async function convertToInteractive(key) {\n",
              "          const element = document.querySelector('#df-151254a3-4e5a-46cb-a8b9-ed587769923c');\n",
              "          const dataTable =\n",
              "            await google.colab.kernel.invokeFunction('convertToInteractive',\n",
              "                                                     [key], {});\n",
              "          if (!dataTable) return;\n",
              "\n",
              "          const docLinkHtml = 'Like what you see? Visit the ' +\n",
              "            '<a target=\"_blank\" href=https://colab.research.google.com/notebooks/data_table.ipynb>data table notebook</a>'\n",
              "            + ' to learn more about interactive tables.';\n",
              "          element.innerHTML = '';\n",
              "          dataTable['output_type'] = 'display_data';\n",
              "          await google.colab.output.renderOutput(dataTable, element);\n",
              "          const docLink = document.createElement('div');\n",
              "          docLink.innerHTML = docLinkHtml;\n",
              "          element.appendChild(docLink);\n",
              "        }\n",
              "      </script>\n",
              "    </div>\n",
              "  </div>\n",
              "  "
            ],
            "text/plain": [
              "                                               Review\n",
              "Id                                                   \n",
              "0   made of very thin cheap metal broke on very fi...\n",
              "1   as good as the brand names no jams or misfires...\n",
              "2   unit was easy to use with understandable in st...\n",
              "3   i am the new family plumber works well no prob...\n",
              "4                         seems to be holding up well"
            ]
          },
          "metadata": {},
          "execution_count": 14
        }
      ]
    },
    {
      "cell_type": "markdown",
      "source": [
        "#### <font color=\"Purple\"> **5. Train Test Split**"
      ],
      "metadata": {
        "id": "BLdFjvHL0raL"
      }
    },
    {
      "cell_type": "code",
      "source": [
        "# Set ID Column as the index\n",
        "train_df = df.set_index('Id')\n",
        "\n",
        "categories = ['Components',\n",
        " 'Delivery and Customer Support',\n",
        " 'Design and Aesthetics',\n",
        " 'Dimensions',\n",
        " 'Features',\n",
        " 'Functionality',\n",
        " 'Installation',\n",
        " 'Material',\n",
        " 'Price',\n",
        " 'Quality',\n",
        " 'Usability',\n",
        " 'Polarity']\n",
        "\n",
        "X = train_df['Review']\n",
        "y = train_df[categories]\n",
        "X_train, X_test, y_train, y_test = train_test_split(X, y, random_state=123, test_size=0.33, shuffle=True)"
      ],
      "metadata": {
        "id": "zTCwA2510xWp"
      },
      "execution_count": 15,
      "outputs": []
    },
    {
      "cell_type": "code",
      "source": [
        "X_train.shape, X_test.shape, y_train.shape, y_test.shape"
      ],
      "metadata": {
        "colab": {
          "base_uri": "https://localhost:8080/"
        },
        "id": "ZLphOKoSVvVh",
        "outputId": "1ccb1352-3255-40c8-804e-3c9425ec154d"
      },
      "execution_count": 16,
      "outputs": [
        {
          "output_type": "execute_result",
          "data": {
            "text/plain": [
              "((4111,), (2025,), (4111, 12), (2025, 12))"
            ]
          },
          "metadata": {},
          "execution_count": 16
        }
      ]
    },
    {
      "cell_type": "markdown",
      "source": [
        "#### <font color=\"Purple\"> **6. Classifiers Description** </font><br>\n",
        "**Pipeline** - Scikit-learn provides a pipeline utility to help automate machine learning workflows. Pipelines are very common in Machine Learning systems, since there is a lot of data to manipulate and many data transformations to apply. So we will utilize pipeline to train every classifier.\n",
        "\n",
        "---\n",
        "\n",
        "\n",
        "**OneVsRest multi-label strategy** - The Multi-label algorithm accepts a binary mask over multiple labels. The result for each prediction will be an array of 0s and 1s marking which class labels apply to each row input sample.\n",
        "\n",
        "---\n",
        "\n",
        "\n",
        "**Naive Bayes / Logistic / SVC** - OneVsRest strategy can be used for multi-label learning, where a classifier is used to predict multiple labels for instance. Naive Bayes supports multi-class, but we are in a multi-label scenario, therefore, we wrap Naive Bayes in the OneVsRestClassifier."
      ],
      "metadata": {
        "id": "MfVOYgvJP8IV"
      }
    },
    {
      "cell_type": "code",
      "source": [
        "# Changing Test dataset to Series\n",
        "test_sqz = test_df.squeeze()"
      ],
      "metadata": {
        "id": "yJjyYsunJKja"
      },
      "execution_count": 17,
      "outputs": []
    },
    {
      "cell_type": "markdown",
      "source": [
        "#### <font color=\"Blue\"> **7. Model : Logistic Regression Classifier** </font><br>\n"
      ],
      "metadata": {
        "id": "6sFx9iLa5R2I"
      }
    },
    {
      "cell_type": "code",
      "source": [
        "LogReg_pipeline = Pipeline([\n",
        "                ('tfidf', TfidfVectorizer(stop_words=stop_words)),\n",
        "                ('clf', OneVsRestClassifier(LogisticRegression(solver='sag'), n_jobs=1)),\n",
        "                ])"
      ],
      "metadata": {
        "id": "vpfULx1HPyp2"
      },
      "execution_count": 18,
      "outputs": []
    },
    {
      "cell_type": "code",
      "source": [
        "LogReg_preds = pd.DataFrame(test_df)\n",
        "\n",
        "for category in categories:\n",
        "    print('... Processing {}'.format(category))\n",
        "    # Training Model\n",
        "    LogReg_pipeline.fit(X_train, y_train[category])\n",
        "    # compute the testing accuracy\n",
        "    prediction = LogReg_pipeline.predict(X_test)\n",
        "    print('Test accuracy is {}'.format(accuracy_score(y_test[category], prediction)))\n",
        "\n",
        "    # Predict on Test Dataset\n",
        "    pred_test = LogReg_pipeline.predict(test_sqz)\n",
        "    # Append the predictions\n",
        "    LogReg_preds[category] = pred_test"
      ],
      "metadata": {
        "colab": {
          "base_uri": "https://localhost:8080/"
        },
        "id": "Oa8uCA2vVpBH",
        "outputId": "1348e984-1354-42be-f5d5-e586d1ad4e5a"
      },
      "execution_count": 19,
      "outputs": [
        {
          "output_type": "stream",
          "name": "stdout",
          "text": [
            "... Processing Components\n",
            "Test accuracy is 0.9535802469135802\n",
            "... Processing Delivery and Customer Support\n",
            "Test accuracy is 0.9708641975308642\n",
            "... Processing Design and Aesthetics\n",
            "Test accuracy is 0.9214814814814815\n",
            "... Processing Dimensions\n",
            "Test accuracy is 0.9249382716049382\n",
            "... Processing Features\n",
            "Test accuracy is 0.9476543209876543\n",
            "... Processing Functionality\n",
            "Test accuracy is 0.8469135802469135\n",
            "... Processing Installation\n",
            "Test accuracy is 0.9328395061728395\n",
            "... Processing Material\n",
            "Test accuracy is 0.9758024691358025\n",
            "... Processing Price\n",
            "Test accuracy is 0.9264197530864198\n",
            "... Processing Quality\n",
            "Test accuracy is 0.8671604938271605\n",
            "... Processing Usability\n",
            "Test accuracy is 0.8982716049382716\n",
            "... Processing Polarity\n",
            "Test accuracy is 0.8785185185185185\n"
          ]
        }
      ]
    },
    {
      "cell_type": "code",
      "source": [
        "LogReg_preds.reset_index(drop=False, inplace=True)\n",
        "#LogReg_preds.to_excel(\"LogReg_preds.xlsx\", index=False)\n",
        "submissions = LogReg_preds.iloc[:,2:]\n",
        "submissions.to_excel(\"LogReg_submit.xlsx\", index=False)"
      ],
      "metadata": {
        "id": "N30Kf8tVb3Vh"
      },
      "execution_count": 20,
      "outputs": []
    },
    {
      "cell_type": "markdown",
      "source": [
        "#### <font color=\"Blue\"> **8. Model : Support Vector Classifier** </font><br>"
      ],
      "metadata": {
        "id": "l7QWygkcETKD"
      }
    },
    {
      "cell_type": "code",
      "source": [
        "SVC_pipeline = Pipeline([\n",
        "                ('tfidf', TfidfVectorizer(stop_words=stop_words)),\n",
        "                ('clf', OneVsRestClassifier(LinearSVC(), n_jobs=1)),\n",
        "                ])"
      ],
      "metadata": {
        "id": "WrRheIkMEVAy"
      },
      "execution_count": 21,
      "outputs": []
    },
    {
      "cell_type": "code",
      "source": [
        "SVC_preds = pd.DataFrame(test_df)\n",
        "\n",
        "for category in categories:\n",
        "    print('... Processing {}'.format(category))\n",
        "    # Training Model\n",
        "    SVC_pipeline.fit(X_train, y_train[category])\n",
        "    # compute the testing accuracy\n",
        "    prediction = SVC_pipeline.predict(X_test)\n",
        "    print('Test accuracy is {}'.format(accuracy_score(y_test[category], prediction)))\n",
        "\n",
        "    # Predict on Test Dataset\n",
        "    pred_test = SVC_pipeline.predict(test_sqz)\n",
        "    # Append the predictions\n",
        "    SVC_preds[category] = pred_test"
      ],
      "metadata": {
        "colab": {
          "base_uri": "https://localhost:8080/"
        },
        "id": "gpC1Cu4wFVts",
        "outputId": "3651dbb8-d298-472b-f2c8-ddd7d748d67f"
      },
      "execution_count": 22,
      "outputs": [
        {
          "output_type": "stream",
          "name": "stdout",
          "text": [
            "... Processing Components\n",
            "Test accuracy is 0.957037037037037\n",
            "... Processing Delivery and Customer Support\n",
            "Test accuracy is 0.9822222222222222\n",
            "... Processing Design and Aesthetics\n",
            "Test accuracy is 0.9338271604938272\n",
            "... Processing Dimensions\n",
            "Test accuracy is 0.9412345679012346\n",
            "... Processing Features\n",
            "Test accuracy is 0.9545679012345679\n",
            "... Processing Functionality\n",
            "Test accuracy is 0.8434567901234568\n",
            "... Processing Installation\n",
            "Test accuracy is 0.9540740740740741\n",
            "... Processing Material\n",
            "Test accuracy is 0.9772839506172839\n",
            "... Processing Price\n",
            "Test accuracy is 0.951604938271605\n",
            "... Processing Quality\n",
            "Test accuracy is 0.868641975308642\n",
            "... Processing Usability\n",
            "Test accuracy is 0.9209876543209876\n",
            "... Processing Polarity\n",
            "Test accuracy is 0.8928395061728395\n"
          ]
        }
      ]
    },
    {
      "cell_type": "code",
      "source": [
        "SVC_preds.reset_index(drop=True, inplace=True)\n",
        "#LogReg_preds.to_excel(\"LogReg_preds.xlsx\", index=False)\n",
        "submissions = SVC_preds.iloc[:,2:]\n",
        "submissions.to_excel(\"SVC_submit.xlsx\", index=False)"
      ],
      "metadata": {
        "id": "vvSEGin_Iu2-"
      },
      "execution_count": 23,
      "outputs": []
    },
    {
      "cell_type": "markdown",
      "source": [
        "#### <font color=\"Blue\"> **9. Model : Naive Bayes Classifier** </font><br>"
      ],
      "metadata": {
        "id": "0bpqx4IVJok4"
      }
    },
    {
      "cell_type": "code",
      "source": [
        "NB_pipeline = Pipeline([\n",
        "                ('tfidf', TfidfVectorizer(stop_words=stop_words)),\n",
        "                ('clf', OneVsRestClassifier(MultinomialNB(), n_jobs=1)),\n",
        "                ])"
      ],
      "metadata": {
        "id": "dh5BlswCJsrz"
      },
      "execution_count": 24,
      "outputs": []
    },
    {
      "cell_type": "code",
      "source": [
        "NB_preds = pd.DataFrame(test_df)\n",
        "\n",
        "for category in categories:\n",
        "    print('... Processing {}'.format(category))\n",
        "    # Training Model\n",
        "    NB_pipeline.fit(X_train, y_train[category])\n",
        "    # compute the testing accuracy\n",
        "    prediction = NB_pipeline.predict(X_test)\n",
        "    print('Test accuracy is {}'.format(accuracy_score(y_test[category], prediction)))\n",
        "\n",
        "    # Predict on Test Dataset\n",
        "    pred_test = NB_pipeline.predict(test_sqz)\n",
        "    # Append the predictions\n",
        "    NB_preds[category] = pred_test"
      ],
      "metadata": {
        "colab": {
          "base_uri": "https://localhost:8080/"
        },
        "id": "LLeMYqaOJzU8",
        "outputId": "8c0ac775-380b-49a6-f539-cbf7d9b99735"
      },
      "execution_count": 25,
      "outputs": [
        {
          "output_type": "stream",
          "name": "stdout",
          "text": [
            "... Processing Components\n",
            "Test accuracy is 0.9530864197530864\n",
            "... Processing Delivery and Customer Support\n",
            "Test accuracy is 0.9708641975308642\n",
            "... Processing Design and Aesthetics\n",
            "Test accuracy is 0.8928395061728395\n",
            "... Processing Dimensions\n",
            "Test accuracy is 0.8879012345679013\n",
            "... Processing Features\n",
            "Test accuracy is 0.9471604938271605\n",
            "... Processing Functionality\n",
            "Test accuracy is 0.797037037037037\n",
            "... Processing Installation\n",
            "Test accuracy is 0.8770370370370371\n",
            "... Processing Material\n",
            "Test accuracy is 0.9753086419753086\n",
            "... Processing Price\n",
            "Test accuracy is 0.8617283950617284\n",
            "... Processing Quality\n",
            "Test accuracy is 0.7585185185185185\n",
            "... Processing Usability\n",
            "Test accuracy is 0.8054320987654321\n",
            "... Processing Polarity\n",
            "Test accuracy is 0.8098765432098766\n"
          ]
        }
      ]
    },
    {
      "cell_type": "code",
      "source": [
        "NB_preds.reset_index(drop=True, inplace=True)\n",
        "#LogReg_preds.to_excel(\"LogReg_preds.xlsx\", index=False)\n",
        "submissions = NB_preds.iloc[:,2:]\n",
        "submissions.to_excel(\"NB_submit.xlsx\", index=False)"
      ],
      "metadata": {
        "id": "bxZzIBhnJ8lo"
      },
      "execution_count": 26,
      "outputs": []
    },
    {
      "cell_type": "code",
      "source": [
        ""
      ],
      "metadata": {
        "id": "GF4irKorKWEO"
      },
      "execution_count": 26,
      "outputs": []
    },
    {
      "cell_type": "markdown",
      "source": [
        "#### <font color=\"Blue\"> **10. Model : Testing Other 1** </font><br>"
      ],
      "metadata": {
        "id": "KeE_k9SEQXI9"
      }
    },
    {
      "cell_type": "code",
      "source": [
        "Pipeline10 = Pipeline([\n",
        "                ('tfidf', TfidfVectorizer(stop_words=stop_words, min_df=10, max_features=1000)),\n",
        "                ('clf', OneVsRestClassifier(LinearSVC(), n_jobs=1)),\n",
        "                ])"
      ],
      "metadata": {
        "id": "r1V4XgdbQZh3"
      },
      "execution_count": null,
      "outputs": []
    },
    {
      "cell_type": "code",
      "source": [
        "preds10 = pd.DataFrame(test_df)\n",
        "\n",
        "for category in categories:\n",
        "    print('... Processing {}'.format(category))\n",
        "    # Training Model\n",
        "    Pipeline10.fit(X_train, y_train[category])\n",
        "    # compute the testing accuracy\n",
        "    prediction = Pipeline10.predict(X_test)\n",
        "    print('Test accuracy is {}'.format(accuracy_score(y_test[category], prediction)))\n",
        "\n",
        "    # Predict on Test Dataset\n",
        "    pred_test = Pipeline10.predict(test_sqz)\n",
        "    # Append the predictions\n",
        "    preds10[category] = pred_test"
      ],
      "metadata": {
        "colab": {
          "base_uri": "https://localhost:8080/"
        },
        "id": "5rSzFPxOQ620",
        "outputId": "45f3b9b8-bf75-4f49-8194-067a6ed83a66"
      },
      "execution_count": null,
      "outputs": [
        {
          "output_type": "stream",
          "name": "stdout",
          "text": [
            "... Processing Components\n",
            "Test accuracy is 0.9555555555555556\n",
            "... Processing Delivery and Customer Support\n",
            "Test accuracy is 0.9807407407407407\n",
            "... Processing Design and Aesthetics\n",
            "Test accuracy is 0.9353086419753086\n",
            "... Processing Dimensions\n",
            "Test accuracy is 0.9422222222222222\n",
            "... Processing Features\n",
            "Test accuracy is 0.9496296296296296\n",
            "... Processing Functionality\n",
            "Test accuracy is 0.8306172839506173\n",
            "... Processing Installation\n",
            "Test accuracy is 0.9506172839506173\n",
            "... Processing Material\n",
            "Test accuracy is 0.9762962962962963\n",
            "... Processing Price\n",
            "Test accuracy is 0.9530864197530864\n",
            "... Processing Quality\n",
            "Test accuracy is 0.8676543209876543\n",
            "... Processing Usability\n",
            "Test accuracy is 0.9160493827160494\n",
            "... Processing Polarity\n",
            "Test accuracy is 0.8775308641975309\n"
          ]
        }
      ]
    },
    {
      "cell_type": "code",
      "source": [
        "preds10.reset_index(drop=True, inplace=True)\n",
        "#LogReg_preds.to_excel(\"LogReg_preds.xlsx\", index=False)\n",
        "submissions = preds10.iloc[:,2:]\n",
        "submissions.to_excel(\"preds10_submit.xlsx\", index=False)"
      ],
      "metadata": {
        "id": "bBCI0ERoRFMI"
      },
      "execution_count": null,
      "outputs": []
    }
  ]
}